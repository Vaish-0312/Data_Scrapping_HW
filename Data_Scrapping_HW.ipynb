{
 "cells": [
  {
   "cell_type": "code",
   "execution_count": 1,
   "id": "3de60884-d50d-417f-93d2-e07a52a70f43",
   "metadata": {},
   "outputs": [
    {
     "name": "stdout",
     "output_type": "stream",
     "text": [
      "Requirement already satisfied: requests in c:\\users\\cw\\anaconda\\lib\\site-packages (2.32.3)Note: you may need to restart the kernel to use updated packages.\n",
      "\n",
      "Requirement already satisfied: beautifulsoup4 in c:\\users\\cw\\anaconda\\lib\\site-packages (4.12.3)\n",
      "Requirement already satisfied: pandas in c:\\users\\cw\\anaconda\\lib\\site-packages (2.2.2)\n",
      "Requirement already satisfied: charset-normalizer<4,>=2 in c:\\users\\cw\\anaconda\\lib\\site-packages (from requests) (3.3.2)\n",
      "Requirement already satisfied: idna<4,>=2.5 in c:\\users\\cw\\anaconda\\lib\\site-packages (from requests) (3.7)\n",
      "Requirement already satisfied: urllib3<3,>=1.21.1 in c:\\users\\cw\\anaconda\\lib\\site-packages (from requests) (2.2.3)\n",
      "Requirement already satisfied: certifi>=2017.4.17 in c:\\users\\cw\\anaconda\\lib\\site-packages (from requests) (2024.8.30)\n",
      "Requirement already satisfied: soupsieve>1.2 in c:\\users\\cw\\anaconda\\lib\\site-packages (from beautifulsoup4) (2.5)\n",
      "Requirement already satisfied: numpy>=1.26.0 in c:\\users\\cw\\anaconda\\lib\\site-packages (from pandas) (1.26.4)\n",
      "Requirement already satisfied: python-dateutil>=2.8.2 in c:\\users\\cw\\anaconda\\lib\\site-packages (from pandas) (2.9.0.post0)\n",
      "Requirement already satisfied: pytz>=2020.1 in c:\\users\\cw\\anaconda\\lib\\site-packages (from pandas) (2024.1)\n",
      "Requirement already satisfied: tzdata>=2022.7 in c:\\users\\cw\\anaconda\\lib\\site-packages (from pandas) (2023.3)\n",
      "Requirement already satisfied: six>=1.5 in c:\\users\\cw\\anaconda\\lib\\site-packages (from python-dateutil>=2.8.2->pandas) (1.16.0)\n"
     ]
    }
   ],
   "source": [
    "pip install requests beautifulsoup4 pandas"
   ]
  },
  {
   "cell_type": "code",
   "execution_count": 2,
   "id": "0045b548-52d7-4890-a754-601edf80edeb",
   "metadata": {},
   "outputs": [],
   "source": [
    "import requests\n",
    "\n",
    "url = \"https://en.wikipedia.org/wiki/List_of_active_Indian_military_aircraft\"\n",
    "\n",
    "# Request the page\n",
    "headers = {\n",
    "    'User-Agent': 'Mozilla/5.0 (Windows NT 10.0; Win64; x64) AppleWebKit/537.36 (KHTML, like Gecko) Chrome/91.0.4472.124 Safari/537.36'\n",
    "}\n",
    "response = requests.get(url, headers=headers)"
   ]
  },
  {
   "cell_type": "code",
   "execution_count": 3,
   "id": "d2ff399a-bdaa-41ab-af49-a9ca62de2533",
   "metadata": {},
   "outputs": [
    {
     "data": {
      "text/plain": [
       "<Response [200]>"
      ]
     },
     "execution_count": 3,
     "metadata": {},
     "output_type": "execute_result"
    }
   ],
   "source": [
    "# Check if the request was successful\n",
    "response  #status_code == 200:\"Page fetched successfully!\""
   ]
  },
  {
   "cell_type": "code",
   "execution_count": 4,
   "id": "c7896014-138b-4cb0-9627-5de1a68a6d23",
   "metadata": {},
   "outputs": [],
   "source": [
    "from bs4 import BeautifulSoup\n",
    "\n",
    "# Parse the page content\n",
    "soup = BeautifulSoup(response.content, 'html.parser')\n",
    "\n",
    "# Find the table with the class 'wikitable'\n",
    "table = soup.find('table', {'class': 'wikitable'})"
   ]
  },
  {
   "cell_type": "code",
   "execution_count": 5,
   "id": "a719d05d-d3bb-4f63-b4b7-efcd8de69340",
   "metadata": {},
   "outputs": [
    {
     "name": "stdout",
     "output_type": "stream",
     "text": [
      "        Aircraft Type       Role        Origin  \\\n",
      "0     Dassault Rafale  Multirole        France   \n",
      "1           HAL Tejas  Multirole         India   \n",
      "2  Conversion trainer    4[4][5]  Mk.1 Trainer   \n",
      "3           Multirole                    Mk.1A   \n",
      "4     Sukhoi Su-30MKI  Multirole        Russia   \n",
      "\n",
      "                                 Quantity  \n",
      "0                                      DH  \n",
      "1                                    Mk.1  \n",
      "2  Used for training; 14 more on order[6]  \n",
      "3     73 on order, 97 more approved[6][7]  \n",
      "4                      Su-30MKI Flanker H  \n"
     ]
    }
   ],
   "source": [
    "import pandas as pd\n",
    "\n",
    "# Initialize lists to store the extracted data\n",
    "aircraft_types = []\n",
    "roles = []\n",
    "origins = []\n",
    "quantities = []\n",
    "# Loop through table rows\n",
    "for row in table.find_all('tr')[1:]:  # Skip the header row\n",
    "    cells = row.find_all('td')  # Get all cells in the row\n",
    "    if len(cells) > 3:  # Ensure the row contains enough data\n",
    "        aircraft_types.append(cells[0].text.strip())  # Aircraft type\n",
    "        origins.append(cells[1].text.strip())  # Origin\n",
    "        roles.append(cells[2].text.strip())  # Role\n",
    "        quantities.append(cells[3].text.strip())  # Quantity\n",
    "\n",
    "# Create a DataFrame\n",
    "df = pd.DataFrame({\n",
    "    'Aircraft Type': aircraft_types,\n",
    "    'Role': roles,\n",
    "    'Origin': origins,\n",
    "    'Quantity': quantities\n",
    "})\n",
    "\n",
    "# Display the DataFrame\n",
    "print(df.head())"
   ]
  },
  {
   "cell_type": "code",
   "execution_count": 6,
   "id": "05edb2bc-8e3e-4e07-a677-a96ca5ef95ca",
   "metadata": {},
   "outputs": [
    {
     "name": "stdout",
     "output_type": "stream",
     "text": [
      "Data saved to 'indian_military_aircraft.csv'\n"
     ]
    }
   ],
   "source": [
    "# Save the DataFrame to a CSV file\n",
    "df.to_csv('indian_military_aircraft.csv', index=False)\n",
    "print(\"Data saved to 'indian_military_aircraft.csv'\")"
   ]
  },
  {
   "cell_type": "code",
   "execution_count": null,
   "id": "d232609f-06c1-47e5-b53b-260276f6ab14",
   "metadata": {},
   "outputs": [],
   "source": []
  },
  {
   "cell_type": "code",
   "execution_count": null,
   "id": "7eb9d656-a5fb-46ee-84dc-f7f22fed27e1",
   "metadata": {},
   "outputs": [],
   "source": []
  },
  {
   "cell_type": "code",
   "execution_count": null,
   "id": "e2a45805-023e-4026-9ebb-1088407f8838",
   "metadata": {},
   "outputs": [],
   "source": []
  },
  {
   "cell_type": "code",
   "execution_count": null,
   "id": "d7082440-6f98-4c51-9595-4148bcee9016",
   "metadata": {},
   "outputs": [],
   "source": []
  },
  {
   "cell_type": "code",
   "execution_count": null,
   "id": "aacb28f4-2021-4263-a5cb-8e8663286164",
   "metadata": {},
   "outputs": [],
   "source": []
  },
  {
   "cell_type": "code",
   "execution_count": null,
   "id": "7ddcbba5-6556-49ed-be0b-536392a0dd29",
   "metadata": {},
   "outputs": [],
   "source": []
  },
  {
   "cell_type": "code",
   "execution_count": null,
   "id": "10ef204c-1c08-46f6-b0f9-ce78213a4ac1",
   "metadata": {},
   "outputs": [],
   "source": []
  },
  {
   "cell_type": "code",
   "execution_count": null,
   "id": "f4801bd8-3af6-4b58-91f9-49caa20765c2",
   "metadata": {},
   "outputs": [],
   "source": []
  },
  {
   "cell_type": "code",
   "execution_count": null,
   "id": "6f130fd8-7eff-4bf0-9744-46d0e8ba3ca9",
   "metadata": {},
   "outputs": [],
   "source": []
  }
 ],
 "metadata": {
  "kernelspec": {
   "display_name": "Python 3 (ipykernel)",
   "language": "python",
   "name": "python3"
  },
  "language_info": {
   "codemirror_mode": {
    "name": "ipython",
    "version": 3
   },
   "file_extension": ".py",
   "mimetype": "text/x-python",
   "name": "python",
   "nbconvert_exporter": "python",
   "pygments_lexer": "ipython3",
   "version": "3.12.7"
  }
 },
 "nbformat": 4,
 "nbformat_minor": 5
}
